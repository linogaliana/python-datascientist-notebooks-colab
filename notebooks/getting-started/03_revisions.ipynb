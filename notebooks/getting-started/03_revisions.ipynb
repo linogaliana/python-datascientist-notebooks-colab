{
  "cells": [
    {
      "cell_type": "markdown",
      "metadata": {},
      "source": [
        "# Quelques exercices de rappels pour se remettre en selle\n",
        "\n",
        "Lino Galiana  \n",
        "2025-06-14\n",
        "\n",
        "Le contenu de cette page est disponible sur [le site web du cours](pythonds.linogaliana.fr/content/getting-started/04_revisions.html)"
      ],
      "id": "2de86f18-161d-4d88-99cf-e7f7dfcc0494"
    }
  ],
  "nbformat": 4,
  "nbformat_minor": 5,
  "metadata": {
    "kernelspec": {
      "display_name": "Python 3",
      "language": "python",
      "name": "python3"
    }
  }
}