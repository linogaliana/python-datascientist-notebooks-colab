{
  "cells": [
    {
      "cell_type": "markdown",
      "metadata": {},
      "source": [
        "# A propos de ce site\n",
        "\n",
        "Lino Galiana  \n",
        "2025-06-14\n",
        "\n",
        "Site web du cours [*Python pour la data science*](https://www.ensae.fr/courses/1425-python-pour-le-data-scientist)\n",
        "<a href=\"https://github.com/linogaliana/python-datascientist\" class=\"github\"><i class=\"fab fa-python\"></i></a>, une introduction à `Python` pour\n",
        "la deuxième année du cursus d’ingénieur de l’[`ENSAE`](https://www.ensae.fr/) (Master 1).\n",
        "\n",
        "<br>\n",
        "\n",
        "L’ensemble du contenu de ce groupe est librement disponible ici\n",
        "ou sur [`Github`](https://github.com/linogaliana/python-datascientist)\n",
        "<a href=\"https://github.com/linogaliana/python-datascientist\" class=\"github\"><i class=\"fab fa-github\"></i></a> et peut être testé\n",
        "sous forme de *notebooks* `Jupyter`.\n",
        "\n",
        "<br>"
      ],
      "id": "170fd4b8-e612-4efb-a638-03d9263c27b0"
    },
    {
      "cell_type": "raw",
      "metadata": {
        "raw_mimetype": "text/html"
      },
      "source": [
        "<details>"
      ],
      "id": "ea452b1b-6564-42ed-a72d-70d95acb09db"
    },
    {
      "cell_type": "raw",
      "metadata": {
        "raw_mimetype": "text/html"
      },
      "source": [
        "<summary>"
      ],
      "id": "59db9c54-aff9-44ca-8c94-37cde7fcbc2a"
    },
    {
      "cell_type": "markdown",
      "metadata": {},
      "source": [
        "Exemple avec l’introduction à `Pandas`"
      ],
      "id": "5411ecd6-af33-4047-853c-022db7b7634a"
    },
    {
      "cell_type": "raw",
      "metadata": {
        "raw_mimetype": "text/html"
      },
      "source": [
        "</summary>"
      ],
      "id": "a157c917-6aa7-480d-a462-b8c4e3be8abd"
    },
    {
      "cell_type": "code",
      "execution_count": null,
      "metadata": {},
      "outputs": [
        {
          "output_type": "display_data",
          "metadata": {},
          "data": {}
        }
      ],
      "source": [],
      "id": "3cb817c5-364b-484f-847b-7fc0cad077b6"
    },
    {
      "cell_type": "raw",
      "metadata": {
        "raw_mimetype": "text/html"
      },
      "source": [
        "</details>"
      ],
      "id": "c76a9f32-d8a9-42ed-ae84-61dd5cdda58e"
    },
    {
      "cell_type": "raw",
      "metadata": {
        "raw_mimetype": "text/html"
      },
      "source": [
        "<details>"
      ],
      "id": "ab137f94-d01e-4c13-9f40-2d80c90366e5"
    },
    {
      "cell_type": "raw",
      "metadata": {
        "raw_mimetype": "text/html"
      },
      "source": [
        "<summary>"
      ],
      "id": "034498b3-9aff-41cb-a9c2-441097d2ebf7"
    },
    {
      "cell_type": "markdown",
      "metadata": {},
      "source": [
        "Au programme:"
      ],
      "id": "15dfe4ce-3aeb-45b6-8129-f3582e10128b"
    },
    {
      "cell_type": "raw",
      "metadata": {
        "raw_mimetype": "text/html"
      },
      "source": [
        "</summary>"
      ],
      "id": "40e86526-fef3-47a9-8d85-cf5ab1acec67"
    },
    {
      "cell_type": "markdown",
      "metadata": {},
      "source": [
        "Globalement, ce cours propose un contenu très complet pouvant autant\n",
        "satisfaire des débutants en\n",
        "*data science* que des personnes à la recherche de contenu plus avancé :\n",
        "<br>\n",
        "\n",
        "1.  **Manipulation de données** : manipulation de données standards (`Pandas`), données géographiques (`Geopandas`), récupération de données (webscraping, API)…\n",
        "2.  **Visualisation de données** : visualisations classiques (`Matplotlib`, `Seaborn`), cartographie, visualisations réactives (`Plotly`, `Folium`)\n",
        "3.  **Modélisation** : *machine learning* (`Scikit`), économétrie\n",
        "4.  **Traitement de données textuelles** (NLP): découverte de la tokenisation avec `NLTK` et `SpaCy`, modélisation…\n",
        "5.  **Introduction à la *data science* moderne** : *cloud computing*, `ElasticSearch`, intégration continue…\n",
        "\n",
        "L’ensemble du contenu de ce site s’appuie sur des **données\n",
        "ouvertes**, qu’il s’agisse de données françaises (principalement\n",
        "issues de la plateforme\n",
        "centralisatrice [`data.gouv`](https://www.data.gouv.fr) ou du site\n",
        "*web* de l’[Insee](https://www.insee.fr)) ou de données\n",
        "américaines. Le programme est présenté de manière linéaire dans la partie supérieure de cette page (👆️) ou de manière désordonnée ci-dessous (👇️).\n",
        "\n",
        "Un bon complément du contenu du site web est le cours que nous donnons avec Romain Avouac en dernière année de l’ENSAE plus tourné autour de la mise en production de projets *data science* : [https://ensae-reproductibilite.github.io/](https://ensae-reproductibilite.github.io/website/)"
      ],
      "id": "8296792b-9164-46b9-be4a-f576abdbbf96"
    },
    {
      "cell_type": "raw",
      "metadata": {
        "raw_mimetype": "text/html"
      },
      "source": [
        "</details>"
      ],
      "id": "305b5683-9011-471c-9abf-fe84121c3e4b"
    },
    {
      "cell_type": "markdown",
      "metadata": {},
      "source": [
        ":::::\n",
        "\n",
        "![](https://minio.lab.sspcloud.fr/lgaliana/generative-art/pythonds/kiddos.png)\n",
        "\n",
        "::::\n",
        "\n",
        ":::"
      ],
      "id": "d8ae7140-b3cf-4c2a-af0d-4c60d2b1e11c"
    }
  ],
  "nbformat": 4,
  "nbformat_minor": 5,
  "metadata": {
    "kernelspec": {
      "display_name": "Python 3",
      "language": "python",
      "name": "python3"
    }
  }
}