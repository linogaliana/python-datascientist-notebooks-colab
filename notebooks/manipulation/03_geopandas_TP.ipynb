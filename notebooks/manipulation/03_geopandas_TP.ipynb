{
  "cells": [
    {
      "cell_type": "markdown",
      "metadata": {},
      "source": [
        "# Pratique de geopandas avec les données vélib\n",
        "\n",
        "Lino Galiana  \n",
        "2025-06-14\n",
        "\n",
        "La partie `GeoPandas` a évolué récemment. Vous pouvez retrouver les contenus liés à `GeoPandas` dans le chapitre suivant (éléments magistraux et exercices):\n",
        "\n",
        "-   [Introduction aux données spatiales avec `Geopandas`](../../content/manipulation/03_geopandas_intro.qmd)"
      ],
      "id": "5de4091f-088d-4833-987f-85d9cdfe114a"
    }
  ],
  "nbformat": 4,
  "nbformat_minor": 5,
  "metadata": {
    "kernelspec": {
      "display_name": "Python 3",
      "language": "python",
      "name": "python3"
    }
  }
}